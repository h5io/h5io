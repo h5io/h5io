{
 "cells": [
  {
   "cell_type": "code",
   "execution_count": null,
   "metadata": {
    "collapsed": false
   },
   "outputs": [],
   "source": [
    "import h5io\n",
    "import numpy as np"
   ]
  },
  {
   "cell_type": "markdown",
   "metadata": {},
   "source": [
    "# Writing to h5io HDF5 files"
   ]
  },
  {
   "cell_type": "code",
   "execution_count": null,
   "metadata": {
    "collapsed": false
   },
   "outputs": [],
   "source": [
    "# h5io can write many kinds of python files including...\n",
    "\n",
    "# dictionaries\n",
    "sample_data_1 = dict(one=[1, 2, 3],\n",
    "                     two=(4, 5, 6),\n",
    "                     three='one two three',\n",
    "                     four='four',\n",
    "                     five=np.random.randn(10, 10))\n",
    "h5io.write_hdf5('./test1.h5', sample_data_1, overwrite=True)\n",
    "\n",
    "# lists / tuples\n",
    "sample_data_2 = list(sample_data_1.values())\n",
    "h5io.write_hdf5('./test2.h5', sample_data_2, overwrite=True)"
   ]
  },
  {
   "cell_type": "markdown",
   "metadata": {},
   "source": [
    "# Listing the top-level contents of an h5io file"
   ]
  },
  {
   "cell_type": "code",
   "execution_count": null,
   "metadata": {
    "collapsed": false
   },
   "outputs": [],
   "source": [
    "# The top-level of the file is listed with some extra information\n",
    "h5io.list_file_contents('./test1.h5')\n",
    "print('\\n\\n')\n",
    "h5io.list_file_contents('./test2.h5')"
   ]
  },
  {
   "cell_type": "markdown",
   "metadata": {},
   "source": [
    "# Reading h5io HDF5 files"
   ]
  },
  {
   "cell_type": "code",
   "execution_count": null,
   "metadata": {
    "collapsed": false
   },
   "outputs": [],
   "source": [
    "data = h5io.read_hdf5('./test1.h5')\n",
    "print(data)"
   ]
  }
 ],
 "metadata": {
  "hide_input": false,
  "kernelspec": {
   "display_name": "Python 2",
   "language": "python",
   "name": "python2"
  },
  "language_info": {
   "codemirror_mode": {
    "name": "ipython",
    "version": 2
   },
   "file_extension": ".py",
   "mimetype": "text/x-python",
   "name": "python",
   "nbconvert_exporter": "python",
   "pygments_lexer": "ipython2",
   "version": "2.7.11"
  }
 },
 "nbformat": 4,
 "nbformat_minor": 1
}
